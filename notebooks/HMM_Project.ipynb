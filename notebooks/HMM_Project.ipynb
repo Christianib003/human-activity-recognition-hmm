{
 "cells": [
  {
   "cell_type": "markdown",
   "metadata": {},
   "source": [
    "# Human Activity Recognition with Hidden Markov Models\n",
    "\n",
    "This notebook builds a compact end-to-end pipeline to recognize four activities — **standing, walking, jumping, still** — from smartphone inertial data.  \n",
    "\n"
   ]
  },
  {
   "cell_type": "code",
   "execution_count": 1,
   "metadata": {},
   "outputs": [],
   "source": [
    "# Imports & setup (single cell)\n",
    "import sys\n",
    "import os\n",
    "from pathlib import Path\n",
    "import pandas as pd\n",
    "from IPython.display import display\n",
    "\n",
    "# project root so we can import our simple modules\n",
    "ROOT = os.path.abspath(os.path.join(os.getcwd(), '..'))\n",
    "if ROOT not in sys.path:\n",
    "    sys.path.append(ROOT)\n",
    "\n",
    "# simple modules (functions only)\n",
    "from src.config import TARGET_HZ, EDGE_TRIM_SEC, MERGE_TOL_SEC\n",
    "from src.data_loader import unpack_and_clean_dir\n",
    "\n"
   ]
  },
  {
   "cell_type": "markdown",
   "metadata": {},
   "source": [
    "## Data Acquisition & Cleaning\n",
    "\n",
    "### 1.1 — Inventory & naming convention\n",
    "We first list the zipped recordings and verify the expected pattern:  \n",
    "`setA|setB_<Activity>_<Index>-YYYY-MM-DD_HH-MM-SS.zip`  \n",
    "Activities expected: **standing, walking, jumping, still**.\n"
   ]
  },
  {
   "cell_type": "code",
   "execution_count": 3,
   "metadata": {},
   "outputs": [
    {
     "name": "stdout",
     "output_type": "stream",
     "text": [
      "Found 52 train zips and 12 test zips.\n",
      "Train sample: ['setA_Jumping_1-2025-10-25_13-52-04.zip', 'setA_Jumping_10-2025-10-25_14-00-15.zip', 'setA_Jumping_11-2025-10-25_14-06-37.zip']\n",
      "Test sample: ['setB_Jumping_1-2025-10-24_15-15-26.zip', 'setB_Jumping_2-2025-10-24_15-16-46.zip', 'setB_Jumping_3-2025-10-24_15-18-46.zip']\n"
     ]
    }
   ],
   "source": [
    "train_raw = os.path.join(ROOT, \"data\", \"raw\", \"train\")\n",
    "test_raw  = os.path.join(ROOT, \"data\", \"raw\", \"test\")\n",
    "\n",
    "train_zips = sorted([os.path.join(train_raw, f) for f in os.listdir(train_raw) if f.endswith(\".zip\")])\n",
    "test_zips  = sorted([os.path.join(test_raw,  f) for f in os.listdir(test_raw)  if f.endswith(\".zip\")])\n",
    "\n",
    "print(f\"Found {len(train_zips)} train zips and {len(test_zips)} test zips.\")\n",
    "print(\"Train sample:\", [os.path.basename(p) for p in train_zips[:3]])\n",
    "print(\"Test sample:\",  [os.path.basename(p) for p in test_zips[:3]])\n"
   ]
  },
  {
   "cell_type": "markdown",
   "metadata": {},
   "source": [
    "### 1.2 — Unpack & standardize sensor files\n",
    "For each zip:\n",
    "1) Read accelerometer and gyroscope CSVs  \n",
    "2) Normalize the time axis to seconds-from-start and axis names to x/y/z  \n",
    "3) Drop duplicate timestamps, sort by time\n"
   ]
  },
  {
   "cell_type": "code",
   "execution_count": 4,
   "metadata": {},
   "outputs": [
    {
     "name": "stdout",
     "output_type": "stream",
     "text": [
      "Cleaning TRAIN…\n",
      "Cleaning TEST…\n"
     ]
    }
   ],
   "source": [
    "train_out = os.path.join(ROOT, \"data\", \"processed\", \"train\")\n",
    "test_out  = os.path.join(ROOT, \"data\", \"processed\", \"test\")\n",
    "\n",
    "print(\"Cleaning TRAIN…\")\n",
    "unpack_and_clean_dir(train_raw, train_out)\n",
    "\n",
    "print(\"Cleaning TEST…\")\n",
    "unpack_and_clean_dir(test_raw, test_out)\n"
   ]
  },
  {
   "cell_type": "code",
   "execution_count": 5,
   "metadata": {},
   "outputs": [
    {
     "name": "stdout",
     "output_type": "stream",
     "text": [
      "Cleaned CSVs → train: 52, test: 12\n"
     ]
    }
   ],
   "source": [
    "clean_train = sorted([os.path.join(train_out, f) for f in os.listdir(train_out) if f.endswith(\"_cleaned.csv\")])\n",
    "clean_test  = sorted([os.path.join(test_out,  f) for f in os.listdir(test_out)  if f.endswith(\"_cleaned.csv\")])\n",
    "\n",
    "print(f\"Cleaned CSVs → train: {len(clean_train)}, test: {len(clean_test)}\")\n"
   ]
  },
  {
   "cell_type": "markdown",
   "metadata": {},
   "source": [
    "### 1.3 — Harmonize sampling rate\n",
    "Phones may log at slightly different rates. We resample to a **uniform 100 Hz** grid so windows and features are comparable across recordings and devices.\n"
   ]
  },
  {
   "cell_type": "code",
   "execution_count": 7,
   "metadata": {},
   "outputs": [
    {
     "name": "stdout",
     "output_type": "stream",
     "text": [
      "setA_Jumping_1-2025-10-25_13-52-04_cleaned.csv      ~100.0 Hz (target=100)\n",
      "setA_Jumping_10-2025-10-25_14-00-15_cleaned.csv     ~100.0 Hz (target=100)\n",
      "setB_Jumping_1-2025-10-24_15-15-26_cleaned.csv      ~100.0 Hz (target=100)\n",
      "setB_Jumping_2-2025-10-24_15-16-46_cleaned.csv      ~100.0 Hz (target=100)\n"
     ]
    }
   ],
   "source": [
    "def estimate_hz(time_s_series):\n",
    "    t = time_s_series.to_numpy()\n",
    "    if len(t) < 2: \n",
    "        return float(\"nan\")\n",
    "    dt = t[1:] - t[:-1]\n",
    "    dt = dt[dt > 0]\n",
    "    return float(1.0 / pd.Series(dt).median()) if len(dt) else float(\"nan\")\n",
    "\n",
    "samples = (clean_train[:2] + clean_test[:2])[:4]\n",
    "for p in samples:\n",
    "    df = pd.read_csv(p, usecols=[\"time_s\"])\n",
    "    hz = estimate_hz(df[\"time_s\"])\n",
    "    print(f\"{os.path.basename(p):50s}  ~{hz:.1f} Hz (target={TARGET_HZ})\")\n"
   ]
  },
  {
   "cell_type": "markdown",
   "metadata": {},
   "source": [
    "### 1.4 — Merge sensors & trim edges\n",
    "We align accelerometer and gyroscope by nearest timestamp (≈10 ms tolerance), then trim **1.0 s** at both ends to remove “start/stop” noise added during recording\n"
   ]
  },
  {
   "cell_type": "code",
   "execution_count": 8,
   "metadata": {},
   "outputs": [
    {
     "name": "stdout",
     "output_type": "stream",
     "text": [
      "First time_s: 1.000 s  (expected ≈ 1.0 s)\n",
      "Last  time_s: 13.570 s\n",
      "Accel+Gyro columns present: True\n"
     ]
    }
   ],
   "source": [
    "if clean_train:\n",
    "    df = pd.read_csv(clean_train[0])\n",
    "    first_t = float(df[\"time_s\"].iloc[0])\n",
    "    last_t  = float(df[\"time_s\"].iloc[-1])\n",
    "    have_cols = all(c in df.columns for c in [\"ax\",\"ay\",\"az\",\"gx\",\"gy\",\"gz\"])\n",
    "    print(f\"First time_s: {first_t:.3f} s  (expected ≈ {EDGE_TRIM_SEC} s)\")\n",
    "    print(f\"Last  time_s: {last_t:.3f} s\")\n",
    "    print(\"Accel+Gyro columns present:\", have_cols)\n"
   ]
  },
  {
   "cell_type": "markdown",
   "metadata": {},
   "source": [
    "### 1.5 — Save cleaned recordings\n",
    "We verify the number of cleaned files per split and preview the first few rows of one cleaned CSV to confirm schema and values.\n"
   ]
  },
  {
   "cell_type": "code",
   "execution_count": 9,
   "metadata": {},
   "outputs": [
    {
     "name": "stdout",
     "output_type": "stream",
     "text": [
      "Cleaned CSVs → train: 52, test: 12\n",
      "Train example file: setA_Jumping_1-2025-10-25_13-52-04_cleaned.csv\n"
     ]
    },
    {
     "data": {
      "text/html": [
       "<div>\n",
       "<style scoped>\n",
       "    .dataframe tbody tr th:only-of-type {\n",
       "        vertical-align: middle;\n",
       "    }\n",
       "\n",
       "    .dataframe tbody tr th {\n",
       "        vertical-align: top;\n",
       "    }\n",
       "\n",
       "    .dataframe thead th {\n",
       "        text-align: right;\n",
       "    }\n",
       "</style>\n",
       "<table border=\"1\" class=\"dataframe\">\n",
       "  <thead>\n",
       "    <tr style=\"text-align: right;\">\n",
       "      <th></th>\n",
       "      <th>time_s</th>\n",
       "      <th>ax</th>\n",
       "      <th>ay</th>\n",
       "      <th>az</th>\n",
       "      <th>gx</th>\n",
       "      <th>gy</th>\n",
       "      <th>gz</th>\n",
       "      <th>activity</th>\n",
       "      <th>split</th>\n",
       "      <th>recording_id</th>\n",
       "    </tr>\n",
       "  </thead>\n",
       "  <tbody>\n",
       "    <tr>\n",
       "      <th>0</th>\n",
       "      <td>1.00</td>\n",
       "      <td>3.564852</td>\n",
       "      <td>6.340639</td>\n",
       "      <td>-7.314131</td>\n",
       "      <td>0.511791</td>\n",
       "      <td>-0.330630</td>\n",
       "      <td>1.921244</td>\n",
       "      <td>jumping</td>\n",
       "      <td>train</td>\n",
       "      <td>1</td>\n",
       "    </tr>\n",
       "    <tr>\n",
       "      <th>1</th>\n",
       "      <td>1.01</td>\n",
       "      <td>1.686290</td>\n",
       "      <td>6.790849</td>\n",
       "      <td>-5.589526</td>\n",
       "      <td>0.364654</td>\n",
       "      <td>0.261083</td>\n",
       "      <td>1.233521</td>\n",
       "      <td>jumping</td>\n",
       "      <td>train</td>\n",
       "      <td>1</td>\n",
       "    </tr>\n",
       "    <tr>\n",
       "      <th>2</th>\n",
       "      <td>1.02</td>\n",
       "      <td>1.019344</td>\n",
       "      <td>8.096290</td>\n",
       "      <td>-5.028453</td>\n",
       "      <td>0.346601</td>\n",
       "      <td>1.151401</td>\n",
       "      <td>0.545515</td>\n",
       "      <td>jumping</td>\n",
       "      <td>train</td>\n",
       "      <td>1</td>\n",
       "    </tr>\n",
       "    <tr>\n",
       "      <th>3</th>\n",
       "      <td>1.03</td>\n",
       "      <td>0.901354</td>\n",
       "      <td>9.388726</td>\n",
       "      <td>-4.746779</td>\n",
       "      <td>0.034873</td>\n",
       "      <td>1.412567</td>\n",
       "      <td>0.230657</td>\n",
       "      <td>jumping</td>\n",
       "      <td>train</td>\n",
       "      <td>1</td>\n",
       "    </tr>\n",
       "    <tr>\n",
       "      <th>4</th>\n",
       "      <td>1.04</td>\n",
       "      <td>3.424710</td>\n",
       "      <td>10.618591</td>\n",
       "      <td>-5.809456</td>\n",
       "      <td>-0.562286</td>\n",
       "      <td>1.321471</td>\n",
       "      <td>0.069513</td>\n",
       "      <td>jumping</td>\n",
       "      <td>train</td>\n",
       "      <td>1</td>\n",
       "    </tr>\n",
       "    <tr>\n",
       "      <th>5</th>\n",
       "      <td>1.05</td>\n",
       "      <td>5.676328</td>\n",
       "      <td>11.574267</td>\n",
       "      <td>-6.654969</td>\n",
       "      <td>-1.084602</td>\n",
       "      <td>1.027379</td>\n",
       "      <td>-0.239417</td>\n",
       "      <td>jumping</td>\n",
       "      <td>train</td>\n",
       "      <td>1</td>\n",
       "    </tr>\n",
       "    <tr>\n",
       "      <th>6</th>\n",
       "      <td>1.06</td>\n",
       "      <td>6.465978</td>\n",
       "      <td>11.054787</td>\n",
       "      <td>-6.332126</td>\n",
       "      <td>-1.266396</td>\n",
       "      <td>0.718832</td>\n",
       "      <td>-0.615428</td>\n",
       "      <td>jumping</td>\n",
       "      <td>train</td>\n",
       "      <td>1</td>\n",
       "    </tr>\n",
       "    <tr>\n",
       "      <th>7</th>\n",
       "      <td>1.07</td>\n",
       "      <td>7.096062</td>\n",
       "      <td>10.488675</td>\n",
       "      <td>-5.967803</td>\n",
       "      <td>-1.324868</td>\n",
       "      <td>0.370000</td>\n",
       "      <td>-0.920295</td>\n",
       "      <td>jumping</td>\n",
       "      <td>train</td>\n",
       "      <td>1</td>\n",
       "    </tr>\n",
       "  </tbody>\n",
       "</table>\n",
       "</div>"
      ],
      "text/plain": [
       "   time_s        ax         ay        az        gx        gy        gz  \\\n",
       "0    1.00  3.564852   6.340639 -7.314131  0.511791 -0.330630  1.921244   \n",
       "1    1.01  1.686290   6.790849 -5.589526  0.364654  0.261083  1.233521   \n",
       "2    1.02  1.019344   8.096290 -5.028453  0.346601  1.151401  0.545515   \n",
       "3    1.03  0.901354   9.388726 -4.746779  0.034873  1.412567  0.230657   \n",
       "4    1.04  3.424710  10.618591 -5.809456 -0.562286  1.321471  0.069513   \n",
       "5    1.05  5.676328  11.574267 -6.654969 -1.084602  1.027379 -0.239417   \n",
       "6    1.06  6.465978  11.054787 -6.332126 -1.266396  0.718832 -0.615428   \n",
       "7    1.07  7.096062  10.488675 -5.967803 -1.324868  0.370000 -0.920295   \n",
       "\n",
       "  activity  split  recording_id  \n",
       "0  jumping  train             1  \n",
       "1  jumping  train             1  \n",
       "2  jumping  train             1  \n",
       "3  jumping  train             1  \n",
       "4  jumping  train             1  \n",
       "5  jumping  train             1  \n",
       "6  jumping  train             1  \n",
       "7  jumping  train             1  "
      ]
     },
     "metadata": {},
     "output_type": "display_data"
    },
    {
     "name": "stdout",
     "output_type": "stream",
     "text": [
      "Columns: ['time_s', 'ax', 'ay', 'az', 'gx', 'gy', 'gz', 'activity', 'split', 'recording_id']\n"
     ]
    }
   ],
   "source": [
    "print(f\"Cleaned CSVs → train: {len(clean_train)}, test: {len(clean_test)}\")\n",
    "if clean_train:\n",
    "    ex = clean_train[0]\n",
    "    print(\"Train example file:\", os.path.basename(ex))\n",
    "    df_preview = pd.read_csv(ex)\n",
    "    display(df_preview.head(8))\n",
    "    print(\"Columns:\", list(df_preview.columns))\n"
   ]
  }
 ],
 "metadata": {
  "kernelspec": {
   "display_name": ".venv",
   "language": "python",
   "name": "python3"
  },
  "language_info": {
   "codemirror_mode": {
    "name": "ipython",
    "version": 3
   },
   "file_extension": ".py",
   "mimetype": "text/x-python",
   "name": "python",
   "nbconvert_exporter": "python",
   "pygments_lexer": "ipython3",
   "version": "3.11.9"
  }
 },
 "nbformat": 4,
 "nbformat_minor": 2
}
