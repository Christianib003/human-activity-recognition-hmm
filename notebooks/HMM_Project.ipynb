{
 "cells": [
  {
   "cell_type": "markdown",
   "metadata": {},
   "source": [
    "# Human Activity Recognition with Hidden Markov Models\n",
    "\n",
    "This notebook builds a compact end-to-end pipeline to recognize four activities — **standing, walking, jumping, still** — from smartphone inertial data.  \n",
    "\n"
   ]
  },
  {
   "cell_type": "code",
   "execution_count": 1,
   "metadata": {},
   "outputs": [],
   "source": [
    "# Imports & setup (single cell)\n",
    "import sys\n",
    "import os\n",
    "from pathlib import Path\n",
    "import pandas as pd\n",
    "from IPython.display import display\n",
    "\n",
    "# project root so we can import our simple modules\n",
    "ROOT = os.path.abspath(os.path.join(os.getcwd(), '..'))\n",
    "if ROOT not in sys.path:\n",
    "    sys.path.append(ROOT)\n",
    "\n",
    "# simple modules (functions only)\n",
    "from src.config import TARGET_HZ, EDGE_TRIM_SEC, MERGE_TOL_SEC\n",
    "from src.data_loader import unpack_and_clean_dir\n",
    "\n"
   ]
  },
  {
   "cell_type": "markdown",
   "metadata": {},
   "source": [
    "## 1 — Data Acquisition & Cleaning\n",
    "\n",
    "### 1.1 — Inventory & naming convention\n",
    "We first list the zipped recordings and verify the expected pattern:  \n",
    "`setA|setB_<Activity>_<Index>-YYYY-MM-DD_HH-MM-SS.zip`  \n",
    "Activities expected: **standing, walking, jumping, still**.\n"
   ]
  },
  {
   "cell_type": "code",
   "execution_count": 3,
   "metadata": {},
   "outputs": [
    {
     "name": "stdout",
     "output_type": "stream",
     "text": [
      "Found 52 train zips and 12 test zips.\n",
      "Train sample: ['setA_Jumping_1-2025-10-25_13-52-04.zip', 'setA_Jumping_10-2025-10-25_14-00-15.zip', 'setA_Jumping_11-2025-10-25_14-06-37.zip']\n",
      "Test sample: ['setB_Jumping_1-2025-10-24_15-15-26.zip', 'setB_Jumping_2-2025-10-24_15-16-46.zip', 'setB_Jumping_3-2025-10-24_15-18-46.zip']\n"
     ]
    }
   ],
   "source": [
    "train_raw = os.path.join(ROOT, \"data\", \"raw\", \"train\")\n",
    "test_raw  = os.path.join(ROOT, \"data\", \"raw\", \"test\")\n",
    "\n",
    "train_zips = sorted([os.path.join(train_raw, f) for f in os.listdir(train_raw) if f.endswith(\".zip\")])\n",
    "test_zips  = sorted([os.path.join(test_raw,  f) for f in os.listdir(test_raw)  if f.endswith(\".zip\")])\n",
    "\n",
    "print(f\"Found {len(train_zips)} train zips and {len(test_zips)} test zips.\")\n",
    "print(\"Train sample:\", [os.path.basename(p) for p in train_zips[:3]])\n",
    "print(\"Test sample:\",  [os.path.basename(p) for p in test_zips[:3]])\n"
   ]
  },
  {
   "cell_type": "markdown",
   "metadata": {},
   "source": [
    "### 1.2 — Unpack & standardize sensor files\n",
    "For each zip:\n",
    "1) Read accelerometer and gyroscope CSVs  \n",
    "2) Normalize the time axis to seconds-from-start and axis names to x/y/z  \n",
    "3) Drop duplicate timestamps, sort by time\n"
   ]
  },
  {
   "cell_type": "code",
   "execution_count": 4,
   "metadata": {},
   "outputs": [
    {
     "name": "stdout",
     "output_type": "stream",
     "text": [
      "Cleaning TRAIN…\n",
      "Cleaning TEST…\n"
     ]
    }
   ],
   "source": [
    "train_out = os.path.join(ROOT, \"data\", \"processed\", \"train\")\n",
    "test_out  = os.path.join(ROOT, \"data\", \"processed\", \"test\")\n",
    "\n",
    "print(\"Cleaning TRAIN…\")\n",
    "unpack_and_clean_dir(train_raw, train_out)\n",
    "\n",
    "print(\"Cleaning TEST…\")\n",
    "unpack_and_clean_dir(test_raw, test_out)\n"
   ]
  },
  {
   "cell_type": "code",
   "execution_count": 5,
   "metadata": {},
   "outputs": [
    {
     "name": "stdout",
     "output_type": "stream",
     "text": [
      "Cleaned CSVs → train: 52, test: 12\n"
     ]
    }
   ],
   "source": [
    "clean_train = sorted([os.path.join(train_out, f) for f in os.listdir(train_out) if f.endswith(\"_cleaned.csv\")])\n",
    "clean_test  = sorted([os.path.join(test_out,  f) for f in os.listdir(test_out)  if f.endswith(\"_cleaned.csv\")])\n",
    "\n",
    "print(f\"Cleaned CSVs → train: {len(clean_train)}, test: {len(clean_test)}\")\n"
   ]
  },
  {
   "cell_type": "markdown",
   "metadata": {},
   "source": [
    "### 1.3 — Harmonize sampling rate\n",
    "Phones may log at slightly different rates. We resample to a **uniform 100 Hz** grid so windows and features are comparable across recordings and devices.\n"
   ]
  },
  {
   "cell_type": "code",
   "execution_count": 7,
   "metadata": {},
   "outputs": [
    {
     "name": "stdout",
     "output_type": "stream",
     "text": [
      "setA_Jumping_1-2025-10-25_13-52-04_cleaned.csv      ~100.0 Hz (target=100)\n",
      "setA_Jumping_10-2025-10-25_14-00-15_cleaned.csv     ~100.0 Hz (target=100)\n",
      "setB_Jumping_1-2025-10-24_15-15-26_cleaned.csv      ~100.0 Hz (target=100)\n",
      "setB_Jumping_2-2025-10-24_15-16-46_cleaned.csv      ~100.0 Hz (target=100)\n"
     ]
    }
   ],
   "source": [
    "def estimate_hz(time_s_series):\n",
    "    t = time_s_series.to_numpy()\n",
    "    if len(t) < 2: \n",
    "        return float(\"nan\")\n",
    "    dt = t[1:] - t[:-1]\n",
    "    dt = dt[dt > 0]\n",
    "    return float(1.0 / pd.Series(dt).median()) if len(dt) else float(\"nan\")\n",
    "\n",
    "samples = (clean_train[:2] + clean_test[:2])[:4]\n",
    "for p in samples:\n",
    "    df = pd.read_csv(p, usecols=[\"time_s\"])\n",
    "    hz = estimate_hz(df[\"time_s\"])\n",
    "    print(f\"{os.path.basename(p):50s}  ~{hz:.1f} Hz (target={TARGET_HZ})\")\n"
   ]
  },
  {
   "cell_type": "markdown",
   "metadata": {},
   "source": [
    "### 1.4 — Merge sensors & trim edges\n",
    "We align accelerometer and gyroscope by nearest timestamp (≈10 ms tolerance), then trim **1.0 s** at both ends to remove “start/stop” noise added during recording\n"
   ]
  },
  {
   "cell_type": "code",
   "execution_count": 8,
   "metadata": {},
   "outputs": [
    {
     "name": "stdout",
     "output_type": "stream",
     "text": [
      "First time_s: 1.000 s  (expected ≈ 1.0 s)\n",
      "Last  time_s: 13.570 s\n",
      "Accel+Gyro columns present: True\n"
     ]
    }
   ],
   "source": [
    "if clean_train:\n",
    "    df = pd.read_csv(clean_train[0])\n",
    "    first_t = float(df[\"time_s\"].iloc[0])\n",
    "    last_t  = float(df[\"time_s\"].iloc[-1])\n",
    "    have_cols = all(c in df.columns for c in [\"ax\",\"ay\",\"az\",\"gx\",\"gy\",\"gz\"])\n",
    "    print(f\"First time_s: {first_t:.3f} s  (expected ≈ {EDGE_TRIM_SEC} s)\")\n",
    "    print(f\"Last  time_s: {last_t:.3f} s\")\n",
    "    print(\"Accel+Gyro columns present:\", have_cols)\n"
   ]
  },
  {
   "cell_type": "markdown",
   "metadata": {},
   "source": [
    "### 1.5 — Save cleaned recordings\n",
    "We verify the number of cleaned files per split and preview the first few rows of one cleaned CSV to confirm schema and values.\n"
   ]
  },
  {
   "cell_type": "code",
   "execution_count": 9,
   "metadata": {},
   "outputs": [
    {
     "name": "stdout",
     "output_type": "stream",
     "text": [
      "Cleaned CSVs → train: 52, test: 12\n",
      "Train example file: setA_Jumping_1-2025-10-25_13-52-04_cleaned.csv\n"
     ]
    },
    {
     "data": {
      "text/html": [
       "<div>\n",
       "<style scoped>\n",
       "    .dataframe tbody tr th:only-of-type {\n",
       "        vertical-align: middle;\n",
       "    }\n",
       "\n",
       "    .dataframe tbody tr th {\n",
       "        vertical-align: top;\n",
       "    }\n",
       "\n",
       "    .dataframe thead th {\n",
       "        text-align: right;\n",
       "    }\n",
       "</style>\n",
       "<table border=\"1\" class=\"dataframe\">\n",
       "  <thead>\n",
       "    <tr style=\"text-align: right;\">\n",
       "      <th></th>\n",
       "      <th>time_s</th>\n",
       "      <th>ax</th>\n",
       "      <th>ay</th>\n",
       "      <th>az</th>\n",
       "      <th>gx</th>\n",
       "      <th>gy</th>\n",
       "      <th>gz</th>\n",
       "      <th>activity</th>\n",
       "      <th>split</th>\n",
       "      <th>recording_id</th>\n",
       "    </tr>\n",
       "  </thead>\n",
       "  <tbody>\n",
       "    <tr>\n",
       "      <th>0</th>\n",
       "      <td>1.00</td>\n",
       "      <td>3.564852</td>\n",
       "      <td>6.340639</td>\n",
       "      <td>-7.314131</td>\n",
       "      <td>0.511791</td>\n",
       "      <td>-0.330630</td>\n",
       "      <td>1.921244</td>\n",
       "      <td>jumping</td>\n",
       "      <td>train</td>\n",
       "      <td>1</td>\n",
       "    </tr>\n",
       "    <tr>\n",
       "      <th>1</th>\n",
       "      <td>1.01</td>\n",
       "      <td>1.686290</td>\n",
       "      <td>6.790849</td>\n",
       "      <td>-5.589526</td>\n",
       "      <td>0.364654</td>\n",
       "      <td>0.261083</td>\n",
       "      <td>1.233521</td>\n",
       "      <td>jumping</td>\n",
       "      <td>train</td>\n",
       "      <td>1</td>\n",
       "    </tr>\n",
       "    <tr>\n",
       "      <th>2</th>\n",
       "      <td>1.02</td>\n",
       "      <td>1.019344</td>\n",
       "      <td>8.096290</td>\n",
       "      <td>-5.028453</td>\n",
       "      <td>0.346601</td>\n",
       "      <td>1.151401</td>\n",
       "      <td>0.545515</td>\n",
       "      <td>jumping</td>\n",
       "      <td>train</td>\n",
       "      <td>1</td>\n",
       "    </tr>\n",
       "    <tr>\n",
       "      <th>3</th>\n",
       "      <td>1.03</td>\n",
       "      <td>0.901354</td>\n",
       "      <td>9.388726</td>\n",
       "      <td>-4.746779</td>\n",
       "      <td>0.034873</td>\n",
       "      <td>1.412567</td>\n",
       "      <td>0.230657</td>\n",
       "      <td>jumping</td>\n",
       "      <td>train</td>\n",
       "      <td>1</td>\n",
       "    </tr>\n",
       "    <tr>\n",
       "      <th>4</th>\n",
       "      <td>1.04</td>\n",
       "      <td>3.424710</td>\n",
       "      <td>10.618591</td>\n",
       "      <td>-5.809456</td>\n",
       "      <td>-0.562286</td>\n",
       "      <td>1.321471</td>\n",
       "      <td>0.069513</td>\n",
       "      <td>jumping</td>\n",
       "      <td>train</td>\n",
       "      <td>1</td>\n",
       "    </tr>\n",
       "    <tr>\n",
       "      <th>5</th>\n",
       "      <td>1.05</td>\n",
       "      <td>5.676328</td>\n",
       "      <td>11.574267</td>\n",
       "      <td>-6.654969</td>\n",
       "      <td>-1.084602</td>\n",
       "      <td>1.027379</td>\n",
       "      <td>-0.239417</td>\n",
       "      <td>jumping</td>\n",
       "      <td>train</td>\n",
       "      <td>1</td>\n",
       "    </tr>\n",
       "    <tr>\n",
       "      <th>6</th>\n",
       "      <td>1.06</td>\n",
       "      <td>6.465978</td>\n",
       "      <td>11.054787</td>\n",
       "      <td>-6.332126</td>\n",
       "      <td>-1.266396</td>\n",
       "      <td>0.718832</td>\n",
       "      <td>-0.615428</td>\n",
       "      <td>jumping</td>\n",
       "      <td>train</td>\n",
       "      <td>1</td>\n",
       "    </tr>\n",
       "    <tr>\n",
       "      <th>7</th>\n",
       "      <td>1.07</td>\n",
       "      <td>7.096062</td>\n",
       "      <td>10.488675</td>\n",
       "      <td>-5.967803</td>\n",
       "      <td>-1.324868</td>\n",
       "      <td>0.370000</td>\n",
       "      <td>-0.920295</td>\n",
       "      <td>jumping</td>\n",
       "      <td>train</td>\n",
       "      <td>1</td>\n",
       "    </tr>\n",
       "  </tbody>\n",
       "</table>\n",
       "</div>"
      ],
      "text/plain": [
       "   time_s        ax         ay        az        gx        gy        gz  \\\n",
       "0    1.00  3.564852   6.340639 -7.314131  0.511791 -0.330630  1.921244   \n",
       "1    1.01  1.686290   6.790849 -5.589526  0.364654  0.261083  1.233521   \n",
       "2    1.02  1.019344   8.096290 -5.028453  0.346601  1.151401  0.545515   \n",
       "3    1.03  0.901354   9.388726 -4.746779  0.034873  1.412567  0.230657   \n",
       "4    1.04  3.424710  10.618591 -5.809456 -0.562286  1.321471  0.069513   \n",
       "5    1.05  5.676328  11.574267 -6.654969 -1.084602  1.027379 -0.239417   \n",
       "6    1.06  6.465978  11.054787 -6.332126 -1.266396  0.718832 -0.615428   \n",
       "7    1.07  7.096062  10.488675 -5.967803 -1.324868  0.370000 -0.920295   \n",
       "\n",
       "  activity  split  recording_id  \n",
       "0  jumping  train             1  \n",
       "1  jumping  train             1  \n",
       "2  jumping  train             1  \n",
       "3  jumping  train             1  \n",
       "4  jumping  train             1  \n",
       "5  jumping  train             1  \n",
       "6  jumping  train             1  \n",
       "7  jumping  train             1  "
      ]
     },
     "metadata": {},
     "output_type": "display_data"
    },
    {
     "name": "stdout",
     "output_type": "stream",
     "text": [
      "Columns: ['time_s', 'ax', 'ay', 'az', 'gx', 'gy', 'gz', 'activity', 'split', 'recording_id']\n"
     ]
    }
   ],
   "source": [
    "print(f\"Cleaned CSVs → train: {len(clean_train)}, test: {len(clean_test)}\")\n",
    "if clean_train:\n",
    "    ex = clean_train[0]\n",
    "    print(\"Train example file:\", os.path.basename(ex))\n",
    "    df_preview = pd.read_csv(ex)\n",
    "    display(df_preview.head(8))\n",
    "    print(\"Columns:\", list(df_preview.columns))\n"
   ]
  },
  {
   "cell_type": "markdown",
   "metadata": {},
   "source": [
    "## 2 — Device & Sampling Metadata\n",
    "\n",
    "### 2.1 — Device table (fill in and display)\n",
    "We record the devices used and their intended sampling rates.  \n",
    "Fill the rows below (add/remove as needed), then we’ll verify the **empirical** rates from the cleaned files.\n"
   ]
  },
  {
   "cell_type": "code",
   "execution_count": 10,
   "metadata": {},
   "outputs": [
    {
     "data": {
      "text/html": [
       "<div>\n",
       "<style scoped>\n",
       "    .dataframe tbody tr th:only-of-type {\n",
       "        vertical-align: middle;\n",
       "    }\n",
       "\n",
       "    .dataframe tbody tr th {\n",
       "        vertical-align: top;\n",
       "    }\n",
       "\n",
       "    .dataframe thead th {\n",
       "        text-align: right;\n",
       "    }\n",
       "</style>\n",
       "<table border=\"1\" class=\"dataframe\">\n",
       "  <thead>\n",
       "    <tr style=\"text-align: right;\">\n",
       "      <th></th>\n",
       "      <th>member</th>\n",
       "      <th>phone</th>\n",
       "      <th>target_hz</th>\n",
       "      <th>notes</th>\n",
       "    </tr>\n",
       "  </thead>\n",
       "  <tbody>\n",
       "    <tr>\n",
       "      <th>0</th>\n",
       "      <td>Christian B.</td>\n",
       "      <td>Android Pixel</td>\n",
       "      <td>100</td>\n",
       "      <td>Front pocket (screen out, upside-down)</td>\n",
       "    </tr>\n",
       "    <tr>\n",
       "      <th>1</th>\n",
       "      <td>Reponse I.</td>\n",
       "      <td>Iphone 15</td>\n",
       "      <td>100</td>\n",
       "      <td>Back pocket (screen in, upright)</td>\n",
       "    </tr>\n",
       "  </tbody>\n",
       "</table>\n",
       "</div>"
      ],
      "text/plain": [
       "         member          phone  target_hz  \\\n",
       "0  Christian B.  Android Pixel        100   \n",
       "1    Reponse I.      Iphone 15        100   \n",
       "\n",
       "                                    notes  \n",
       "0  Front pocket (screen out, upside-down)  \n",
       "1        Back pocket (screen in, upright)  "
      ]
     },
     "metadata": {},
     "output_type": "display_data"
    }
   ],
   "source": [
    "device_rows = [\n",
    "    {\"member\": \"Christian B.\", \"phone\": \"Android Pixel\", \"target_hz\": TARGET_HZ, \"notes\": \"Front pocket (screen out, upside-down)\"},\n",
    "    {\"member\": \"Reponse I.\", \"phone\": \"Iphone 15\", \"target_hz\": TARGET_HZ, \"notes\": \"Back pocket (screen in, upright)\"},\n",
    "]\n",
    "device_df = pd.DataFrame(device_rows, columns=[\"member\",\"phone\",\"target_hz\",\"notes\"])\n",
    "display(device_df)\n"
   ]
  },
  {
   "cell_type": "markdown",
   "metadata": {},
   "source": [
    "### 2.2 — Harmonization plan\n",
    "Phones can log slightly above/below the target rate.  \n",
    "We resample each stream to a **uniform 100 Hz** grid during cleaning so windows/features are comparable across recordings and devices.  \n",
    "Next, we verify this by **estimating the empirical Hz per cleaned file**.\n",
    "\n",
    "We compute an empirical sampling rate for each cleaned file (median Δt⁻¹) and summarize by split/activity.\n"
   ]
  },
  {
   "cell_type": "code",
   "execution_count": 11,
   "metadata": {},
   "outputs": [],
   "source": [
    "def estimate_hz_from_csv(path_csv):\n",
    "    s = pd.read_csv(path_csv, usecols=[\"time_s\"])\n",
    "    t = s[\"time_s\"].to_numpy()\n",
    "    if len(t) < 2:\n",
    "        return float(\"nan\")\n",
    "    dt = t[1:] - t[:-1]\n",
    "    dt = dt[dt > 0]\n",
    "    return float(1.0 / pd.Series(dt).median()) if len(dt) else float(\"nan\")\n",
    "\n",
    "def read_activity_quick(path_csv):\n",
    "    s = pd.read_csv(path_csv, usecols=[\"activity\",\"split\"], nrows=1)\n",
    "    return s[\"split\"].iloc[0], s[\"activity\"].iloc[0]\n"
   ]
  },
  {
   "cell_type": "code",
   "execution_count": 12,
   "metadata": {},
   "outputs": [
    {
     "data": {
      "text/html": [
       "<div>\n",
       "<style scoped>\n",
       "    .dataframe tbody tr th:only-of-type {\n",
       "        vertical-align: middle;\n",
       "    }\n",
       "\n",
       "    .dataframe tbody tr th {\n",
       "        vertical-align: top;\n",
       "    }\n",
       "\n",
       "    .dataframe thead th {\n",
       "        text-align: right;\n",
       "    }\n",
       "</style>\n",
       "<table border=\"1\" class=\"dataframe\">\n",
       "  <thead>\n",
       "    <tr style=\"text-align: right;\">\n",
       "      <th></th>\n",
       "      <th>file</th>\n",
       "      <th>split</th>\n",
       "      <th>activity</th>\n",
       "      <th>empirical_hz</th>\n",
       "    </tr>\n",
       "  </thead>\n",
       "  <tbody>\n",
       "    <tr>\n",
       "      <th>0</th>\n",
       "      <td>setB_Jumping_1-2025-10-24_15-15-26_cleaned.csv</td>\n",
       "      <td>test</td>\n",
       "      <td>jumping</td>\n",
       "      <td>100.0</td>\n",
       "    </tr>\n",
       "    <tr>\n",
       "      <th>1</th>\n",
       "      <td>setB_Jumping_2-2025-10-24_15-16-46_cleaned.csv</td>\n",
       "      <td>test</td>\n",
       "      <td>jumping</td>\n",
       "      <td>100.0</td>\n",
       "    </tr>\n",
       "    <tr>\n",
       "      <th>2</th>\n",
       "      <td>setB_Jumping_3-2025-10-24_15-18-46_cleaned.csv</td>\n",
       "      <td>test</td>\n",
       "      <td>jumping</td>\n",
       "      <td>100.0</td>\n",
       "    </tr>\n",
       "    <tr>\n",
       "      <th>3</th>\n",
       "      <td>setB_Standing_1-2025-10-26_13-29-15_cleaned.csv</td>\n",
       "      <td>test</td>\n",
       "      <td>standing</td>\n",
       "      <td>100.0</td>\n",
       "    </tr>\n",
       "    <tr>\n",
       "      <th>4</th>\n",
       "      <td>setB_Standing_2-2025-10-26_13-28-55_cleaned.csv</td>\n",
       "      <td>test</td>\n",
       "      <td>standing</td>\n",
       "      <td>100.0</td>\n",
       "    </tr>\n",
       "    <tr>\n",
       "      <th>5</th>\n",
       "      <td>setB_Standing_3-2025-10-26_13-28-35_cleaned.csv</td>\n",
       "      <td>test</td>\n",
       "      <td>standing</td>\n",
       "      <td>100.0</td>\n",
       "    </tr>\n",
       "    <tr>\n",
       "      <th>6</th>\n",
       "      <td>setB_Still_1-2025-10-26_13-27-04_cleaned.csv</td>\n",
       "      <td>test</td>\n",
       "      <td>still</td>\n",
       "      <td>100.0</td>\n",
       "    </tr>\n",
       "    <tr>\n",
       "      <th>7</th>\n",
       "      <td>setB_Still_2-2025-10-26_13-26-43_cleaned.csv</td>\n",
       "      <td>test</td>\n",
       "      <td>still</td>\n",
       "      <td>100.0</td>\n",
       "    </tr>\n",
       "    <tr>\n",
       "      <th>8</th>\n",
       "      <td>setB_Still_3-2025-10-26_13-26-24_cleaned.csv</td>\n",
       "      <td>test</td>\n",
       "      <td>still</td>\n",
       "      <td>100.0</td>\n",
       "    </tr>\n",
       "    <tr>\n",
       "      <th>9</th>\n",
       "      <td>setB_Walking_1-2025-10-24_15-11-38_cleaned.csv</td>\n",
       "      <td>test</td>\n",
       "      <td>walking</td>\n",
       "      <td>100.0</td>\n",
       "    </tr>\n",
       "  </tbody>\n",
       "</table>\n",
       "</div>"
      ],
      "text/plain": [
       "                                              file split  activity  \\\n",
       "0   setB_Jumping_1-2025-10-24_15-15-26_cleaned.csv  test   jumping   \n",
       "1   setB_Jumping_2-2025-10-24_15-16-46_cleaned.csv  test   jumping   \n",
       "2   setB_Jumping_3-2025-10-24_15-18-46_cleaned.csv  test   jumping   \n",
       "3  setB_Standing_1-2025-10-26_13-29-15_cleaned.csv  test  standing   \n",
       "4  setB_Standing_2-2025-10-26_13-28-55_cleaned.csv  test  standing   \n",
       "5  setB_Standing_3-2025-10-26_13-28-35_cleaned.csv  test  standing   \n",
       "6     setB_Still_1-2025-10-26_13-27-04_cleaned.csv  test     still   \n",
       "7     setB_Still_2-2025-10-26_13-26-43_cleaned.csv  test     still   \n",
       "8     setB_Still_3-2025-10-26_13-26-24_cleaned.csv  test     still   \n",
       "9   setB_Walking_1-2025-10-24_15-11-38_cleaned.csv  test   walking   \n",
       "\n",
       "   empirical_hz  \n",
       "0         100.0  \n",
       "1         100.0  \n",
       "2         100.0  \n",
       "3         100.0  \n",
       "4         100.0  \n",
       "5         100.0  \n",
       "6         100.0  \n",
       "7         100.0  \n",
       "8         100.0  \n",
       "9         100.0  "
      ]
     },
     "metadata": {},
     "output_type": "display_data"
    }
   ],
   "source": [
    "rows = []\n",
    "for p in clean_train + clean_test:\n",
    "    split, activity = read_activity_quick(p)\n",
    "    hz = estimate_hz_from_csv(p)\n",
    "    rows.append({\"file\": os.path.basename(p), \"split\": split, \"activity\": activity, \"empirical_hz\": round(hz, 2)})\n",
    "\n",
    "hz_df = pd.DataFrame(rows).sort_values([\"split\",\"activity\",\"file\"]).reset_index(drop=True)\n",
    "display(hz_df.head(10))"
   ]
  },
  {
   "cell_type": "markdown",
   "metadata": {},
   "source": [
    "### 2.4 — Summary by split and activity\n",
    "We expect empirical rates to cluster tightly around the target (≈100 Hz) for **both** train and test, across all activities.\n"
   ]
  },
  {
   "cell_type": "code",
   "execution_count": 13,
   "metadata": {},
   "outputs": [
    {
     "data": {
      "text/html": [
       "<div>\n",
       "<style scoped>\n",
       "    .dataframe tbody tr th:only-of-type {\n",
       "        vertical-align: middle;\n",
       "    }\n",
       "\n",
       "    .dataframe tbody tr th {\n",
       "        vertical-align: top;\n",
       "    }\n",
       "\n",
       "    .dataframe thead th {\n",
       "        text-align: right;\n",
       "    }\n",
       "</style>\n",
       "<table border=\"1\" class=\"dataframe\">\n",
       "  <thead>\n",
       "    <tr style=\"text-align: right;\">\n",
       "      <th></th>\n",
       "      <th>split</th>\n",
       "      <th>activity</th>\n",
       "      <th>n</th>\n",
       "      <th>hz_median</th>\n",
       "      <th>hz_min</th>\n",
       "      <th>hz_max</th>\n",
       "    </tr>\n",
       "  </thead>\n",
       "  <tbody>\n",
       "    <tr>\n",
       "      <th>0</th>\n",
       "      <td>test</td>\n",
       "      <td>jumping</td>\n",
       "      <td>3</td>\n",
       "      <td>100.0</td>\n",
       "      <td>100.0</td>\n",
       "      <td>100.0</td>\n",
       "    </tr>\n",
       "    <tr>\n",
       "      <th>1</th>\n",
       "      <td>test</td>\n",
       "      <td>standing</td>\n",
       "      <td>3</td>\n",
       "      <td>100.0</td>\n",
       "      <td>100.0</td>\n",
       "      <td>100.0</td>\n",
       "    </tr>\n",
       "    <tr>\n",
       "      <th>2</th>\n",
       "      <td>test</td>\n",
       "      <td>still</td>\n",
       "      <td>3</td>\n",
       "      <td>100.0</td>\n",
       "      <td>100.0</td>\n",
       "      <td>100.0</td>\n",
       "    </tr>\n",
       "    <tr>\n",
       "      <th>3</th>\n",
       "      <td>test</td>\n",
       "      <td>walking</td>\n",
       "      <td>3</td>\n",
       "      <td>100.0</td>\n",
       "      <td>100.0</td>\n",
       "      <td>100.0</td>\n",
       "    </tr>\n",
       "    <tr>\n",
       "      <th>4</th>\n",
       "      <td>train</td>\n",
       "      <td>jumping</td>\n",
       "      <td>13</td>\n",
       "      <td>100.0</td>\n",
       "      <td>100.0</td>\n",
       "      <td>100.0</td>\n",
       "    </tr>\n",
       "    <tr>\n",
       "      <th>5</th>\n",
       "      <td>train</td>\n",
       "      <td>standing</td>\n",
       "      <td>13</td>\n",
       "      <td>100.0</td>\n",
       "      <td>100.0</td>\n",
       "      <td>100.0</td>\n",
       "    </tr>\n",
       "    <tr>\n",
       "      <th>6</th>\n",
       "      <td>train</td>\n",
       "      <td>still</td>\n",
       "      <td>13</td>\n",
       "      <td>100.0</td>\n",
       "      <td>100.0</td>\n",
       "      <td>100.0</td>\n",
       "    </tr>\n",
       "    <tr>\n",
       "      <th>7</th>\n",
       "      <td>train</td>\n",
       "      <td>walking</td>\n",
       "      <td>13</td>\n",
       "      <td>100.0</td>\n",
       "      <td>100.0</td>\n",
       "      <td>100.0</td>\n",
       "    </tr>\n",
       "  </tbody>\n",
       "</table>\n",
       "</div>"
      ],
      "text/plain": [
       "   split  activity   n  hz_median  hz_min  hz_max\n",
       "0   test   jumping   3      100.0   100.0   100.0\n",
       "1   test  standing   3      100.0   100.0   100.0\n",
       "2   test     still   3      100.0   100.0   100.0\n",
       "3   test   walking   3      100.0   100.0   100.0\n",
       "4  train   jumping  13      100.0   100.0   100.0\n",
       "5  train  standing  13      100.0   100.0   100.0\n",
       "6  train     still  13      100.0   100.0   100.0\n",
       "7  train   walking  13      100.0   100.0   100.0"
      ]
     },
     "metadata": {},
     "output_type": "display_data"
    }
   ],
   "source": [
    "summary = (hz_df\n",
    "           .groupby([\"split\",\"activity\"], as_index=False)\n",
    "           .agg(n=(\"empirical_hz\",\"size\"),\n",
    "                hz_median=(\"empirical_hz\",\"median\"),\n",
    "                hz_min=(\"empirical_hz\",\"min\"),\n",
    "                hz_max=(\"empirical_hz\",\"max\")))\n",
    "display(summary)"
   ]
  }
 ],
 "metadata": {
  "kernelspec": {
   "display_name": ".venv",
   "language": "python",
   "name": "python3"
  },
  "language_info": {
   "codemirror_mode": {
    "name": "ipython",
    "version": 3
   },
   "file_extension": ".py",
   "mimetype": "text/x-python",
   "name": "python",
   "nbconvert_exporter": "python",
   "pygments_lexer": "ipython3",
   "version": "3.11.9"
  }
 },
 "nbformat": 4,
 "nbformat_minor": 2
}
